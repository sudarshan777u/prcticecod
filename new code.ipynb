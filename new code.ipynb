{
 "cells": [
  {
   "cell_type": "code",
   "execution_count": 1,
   "id": "c93c2bea",
   "metadata": {},
   "outputs": [
    {
     "name": "stdout",
     "output_type": "stream",
     "text": [
      "1\n",
      "cric\n",
      "buzz\n",
      "cric\n",
      "5\n",
      "cricbuzz\n",
      "7\n",
      "cric\n",
      "buzz\n",
      "cric\n",
      "11\n",
      "cricbuzz\n",
      "13\n",
      "cric\n",
      "buzz\n",
      "cric\n",
      "17\n",
      "cricbuzz\n",
      "19\n",
      "cric\n",
      "buzz\n",
      "cric\n",
      "23\n",
      "cricbuzz\n",
      "25\n",
      "cric\n",
      "buzz\n",
      "cric\n",
      "29\n",
      "cricbuzz\n",
      "31\n",
      "cric\n",
      "buzz\n",
      "cric\n",
      "35\n",
      "cricbuzz\n",
      "37\n",
      "cric\n",
      "buzz\n",
      "cric\n"
     ]
    }
   ],
   "source": [
    "for i in range(1, 41):\n",
    "    if i % 2 == 0 and i % 3 == 0:\n",
    "        print(\"cricbuzz\")\n",
    "    elif i % 2 == 0:\n",
    "        print(\"cric\")\n",
    "    elif i % 3 == 0:\n",
    "        print(\"buzz\")\n",
    "    else:\n",
    "        print(i)\n"
   ]
  },
  {
   "cell_type": "code",
   "execution_count": null,
   "id": "70133f0d",
   "metadata": {},
   "outputs": [],
   "source": []
  }
 ],
 "metadata": {
  "kernelspec": {
   "display_name": "Python 3 (ipykernel)",
   "language": "python",
   "name": "python3"
  },
  "language_info": {
   "codemirror_mode": {
    "name": "ipython",
    "version": 3
   },
   "file_extension": ".py",
   "mimetype": "text/x-python",
   "name": "python",
   "nbconvert_exporter": "python",
   "pygments_lexer": "ipython3",
   "version": "3.11.5"
  }
 },
 "nbformat": 4,
 "nbformat_minor": 5
}
